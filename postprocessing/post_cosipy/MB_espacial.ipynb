{
 "cells": [
  {
   "cell_type": "code",
   "execution_count": 1,
   "metadata": {},
   "outputs": [],
   "source": [
    "\"\"\"\n",
    "This script creates the figure the mass balance\n",
    "in its distribution version \n",
    "\n",
    "\"\"\"\n",
    "\n",
    "import xarray as xr\n",
    "import pandas as pd\n",
    "import numpy as np\n",
    "import datetime\n",
    "from dateutil import tz\n",
    "import netCDF4\n",
    "import matplotlib.pyplot as plt \n",
    "import matplotlib as mpl\n",
    "from osgeo import gdal\n",
    "from osgeo import gdal_array\n",
    "from osgeo import osr\n",
    "from my_fun.nan_helper import nan_helper\n",
    "from my_fun.reverse_colourmap import reverse_colourmap\n",
    "from scipy.signal import savgol_filter\n"
   ]
  },
  {
   "cell_type": "code",
   "execution_count": 4,
   "metadata": {},
   "outputs": [],
   "source": [
    "filename_nc  = '../../data/output/Peru_out_1_20160901-20170831.nc'\n",
    "dir_output   = 'out'\n",
    "name_table1  = 'stat_MB'\n",
    "\n",
    "name_fig     = 'MB_esp'\n",
    "name_fig1    = 'MB_esp_annual'\n",
    "name_fig2    = 'MB_esp_pos'\n",
    "ds = xr.open_dataset(filename_nc)\n",
    "\n",
    "time_nc = ds['time'].values\n",
    "lon_nc  = ds['lon'].values\n",
    "lat_nc  = ds['lat'].values\n",
    "HGT_nc  = ds['HGT'].values\n",
    "mask_nc = ds['MASK'].values"
   ]
  },
  {
   "cell_type": "code",
   "execution_count": 5,
   "metadata": {},
   "outputs": [
    {
     "data": {
      "image/png": "[encoded data removed]",
      "text/plain": [
       "<Figure size 432x288 with 1 Axes>"
      ]
     },
     "metadata": {
      "needs_background": "light"
     },
     "output_type": "display_data"
    }
   ],
   "source": [
    "days_sim = int(len(time_nc)/24)\n",
    "\n",
    "x,y = np.shape(mask_nc)\n",
    "\n",
    "\n",
    "MB_all  = np.sum(ds['MB'].values,axis=0)\n",
    "\n",
    "for i in range(len(lat_nc)):\n",
    "    for j in range(len(lon_nc)):\n",
    "            if mask_nc[i,j] == 1:\n",
    "                MB_all[i,j] = MB_all[i,j]\n",
    "            else:\n",
    "                MB_all[i,j] = np.nan\n",
    "\n",
    "MB_all2 = np.sum(ds['MB'].values,axis=0)\n",
    "for i in range(len(lat_nc)):\n",
    "    for j in range(len(lon_nc)):\n",
    "            if mask_nc[i,j] == 1:\n",
    "                MB_all2[i,j] = MB_all2[i,j]\n",
    "            else:\n",
    "                MB_all2[i,j] = np.nan\n",
    "\n",
    "MB_all2[MB_all2 < 0] = np.nan\n",
    "MB_all2[MB_all2 >= 0] = 1\n",
    "\n",
    "# ELA\n",
    "cmap = mpl.cm.jet\n",
    "cmap_r = reverse_colourmap(cmap)\n",
    "\n",
    "im1 = plt.contourf(lon_nc,lat_nc,MB_all2,1)\n",
    "p = im1.collections[0].get_paths()[0]\n",
    "v = p.vertices\n",
    "#y = savgol_filter(x, 5, 2)\n"
   ]
  },
  {
   "cell_type": "code",
   "execution_count": 7,
   "metadata": {},
   "outputs": [
    {
     "data": {
      "image/png": "[encoded data removed]",
      "text/plain": [
       "<Figure size 288x360 with 2 Axes>"
      ]
     },
     "metadata": {
      "needs_background": "light"
     },
     "output_type": "display_data"
    }
   ],
   "source": [
    "fig, ax = plt.subplots(figsize=(4,5))\n",
    "im  = ax.contourf(lon_nc,lat_nc,MB_all,30,vmin=-12, vmax=1, cmap=cmap_r)\n",
    "ax.plot(v[120:300,0],v[120:300,1],'-w', lw=0.8)\n",
    "ax.set_yticks(np.round(np.linspace(np.min(lat_nc), np.max(lat_nc), 5), decimals=2))\n",
    "ax.xaxis.set_ticks_position('top')\n",
    "ax.xaxis.set_tick_params(which='both', rotation=90)\n",
    "ax.set_xticks(np.round(np.linspace(np.min(lon_nc), np.max(lon_nc), 5), decimals=2))\n",
    "ax.yaxis.set_tick_params(which='both', rotation=90)\n",
    "ax.set_ylabel('Lat (°)')\n",
    "ax.set_xlabel('Lon (°)')\n",
    "ax.xaxis.set_label_position('top')\n",
    "lab_cbar = np.arange(-12,1,2)\n",
    "fig.colorbar(im, label = 'Mass Balance (m w.e.)', format='%1.1f',\n",
    "             orientation=\"horizontal\", ticks=lab_cbar)\n",
    "font_f = 12\n",
    "plt.rc('font', size=font_f)          # controls default text sizes\n",
    "plt.rc('axes', titlesize=font_f)     # fontsize of the axes title\n",
    "plt.rc('axes', labelsize=font_f)    # fontsize of the x and y labels\n",
    "plt.rc('xtick', labelsize=font_f)    # fontsize of the tick labels\n",
    "plt.rc('ytick', labelsize=font_f)    # fontsize of the tick labels\n",
    "plt.rc('legend', fontsize=font_f)    # legend fontsize\n",
    "fig.savefig(dir_output+'/'+name_fig+'.pdf',dpi = 300, bbox_inches = 'tight', \n",
    "             pad_inches = 0.1, format='pdf')"
   ]
  },
  {
   "cell_type": "code",
   "execution_count": null,
   "metadata": {},
   "outputs": [],
   "source": []
  }
 ],
 "metadata": {
  "kernelspec": {
   "display_name": "Python 3",
   "language": "python",
   "name": "python3"
  },
  "language_info": {
   "codemirror_mode": {
    "name": "ipython",
    "version": 3
   },
   "file_extension": ".py",
   "mimetype": "text/x-python",
   "name": "python",
   "nbconvert_exporter": "python",
   "pygments_lexer": "ipython3",
   "version": "3.8.5"
  }
 },
 "nbformat": 4,
 "nbformat_minor": 4
}
