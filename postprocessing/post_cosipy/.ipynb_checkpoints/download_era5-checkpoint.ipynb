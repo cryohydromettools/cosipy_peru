{
 "cells": [
  {
   "cell_type": "code",
   "execution_count": 2,
   "metadata": {},
   "outputs": [],
   "source": [
    "import cdsapi"
   ]
  },
  {
   "cell_type": "code",
   "execution_count": null,
   "metadata": {},
   "outputs": [
    {
     "name": "stderr",
     "output_type": "stream",
     "text": [
      "2020-10-17 22:20:10,499 INFO Welcome to the CDS\n",
      "2020-10-17 22:20:10,512 INFO Sending request to https://cds.climate.copernicus.eu/api/v2/resources/reanalysis-era5-pressure-levels-monthly-means\n",
      "2020-10-17 22:20:10,901 INFO Request is queued\n",
      "2020-10-17 22:20:12,245 INFO Request is running\n"
     ]
    }
   ],
   "source": [
    "c = cdsapi.Client()\n",
    "c.retrieve(\"reanalysis-era5-pressure-levels-monthly-means\",\n",
    "    {\n",
    "        \"area\":           \"-65/-8.96/-80/-8.94\",\n",
    "        \"variable\": \"temperature\",\n",
    "        \"pressure_level\": \"all\",\n",
    "        \"product_type\": \"reanalysis\",\n",
    "        \"year\": [\"1980\",\"1981\",\"1982\",\"1983\",\"1984\",\"1985\",\"1986\",\"1987\",\"1988\",\"1989\",\n",
    "                 \"1990\",\"1991\",\"1992\",\"1993\",\"1994\",\"1995\",\"1996\",\"1997\",\"1998\",\"1999\",\n",
    "                 \"2000\",\"2001\",\"2002\",\"2003\",\"2004\",\"2005\",\"2006\",\"2007\",\"2008\",\"2009\",\n",
    "                 \"2010\",\"2011\",\"2012\",\"2013\",\"2014\",\"2015\",\"2016\",\"2017\",\"2018\",\"2019\"],\n",
    "        \"month\": [\"01\",\"02\",\"03\",\"04\",\"05\",\"06\",\"07\",\"08\",\"09\",\"10\",\"11\",\"12\"],\n",
    "        \"format\": \"netcdf\"\n",
    "    }, \"rh_levels.nc\")"
   ]
  }
 ],
 "metadata": {
  "kernelspec": {
   "display_name": "Python 3",
   "language": "python",
   "name": "python3"
  },
  "language_info": {
   "codemirror_mode": {
    "name": "ipython",
    "version": 3
   },
   "file_extension": ".py",
   "mimetype": "text/x-python",
   "name": "python",
   "nbconvert_exporter": "python",
   "pygments_lexer": "ipython3",
   "version": "3.8.5"
  }
 },
 "nbformat": 4,
 "nbformat_minor": 4
}
