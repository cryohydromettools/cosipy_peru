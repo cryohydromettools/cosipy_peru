{
 "cells": [
  {
   "cell_type": "code",
   "execution_count": 2,
   "metadata": {},
   "outputs": [],
   "source": [
    "import cdsapi\n",
    "import elevation"
   ]
  },
  {
   "cell_type": "code",
   "execution_count": 7,
   "metadata": {},
   "outputs": [],
   "source": [
    "#elevation.clip(bounds=(-8.96, -65, -8.959, -64.995), output='in/DEM.tif')"
   ]
  },
  {
   "cell_type": "code",
   "execution_count": 9,
   "metadata": {},
   "outputs": [
    {
     "name": "stderr",
     "output_type": "stream",
     "text": [
      "2020-10-18 12:40:17,688 INFO Welcome to the CDS\n",
      "2020-10-18 12:40:17,689 INFO Sending request to https://cds.climate.copernicus.eu/api/v2/resources/reanalysis-era5-pressure-levels-monthly-means\n",
      "2020-10-18 12:40:18,369 INFO Request is queued\n",
      "2020-10-18 12:40:19,605 INFO Request is running\n",
      "2020-10-18 13:06:51,187 INFO Request is completed\n",
      "2020-10-18 13:06:51,188 INFO Downloading http://136.156.133.37/cache-compute-0011/cache/data4/adaptor.mars.internal-1603035618.4595358-22032-1-040ddbb8-bb9d-409f-a370-f779084230d7.nc to in/sh_levels.nc (1.4M)\n",
      "2020-10-18 13:06:53,789 INFO Download rate 548.4K/s \n"
     ]
    },
    {
     "data": {
      "text/plain": [
       "Result(content_length=1459812,content_type=application/x-netcdf,location=http://136.156.133.37/cache-compute-0011/cache/data4/adaptor.mars.internal-1603035618.4595358-22032-1-040ddbb8-bb9d-409f-a370-f779084230d7.nc)"
      ]
     },
     "execution_count": 9,
     "metadata": {},
     "output_type": "execute_result"
    }
   ],
   "source": [
    "c = cdsapi.Client()\n",
    "c.retrieve(\"reanalysis-era5-pressure-levels-monthly-means\",\n",
    "    {\n",
    "        \"area\":           \"-8.94/-80/-8.96/-70\",\n",
    "        \"variable\": \"specific humidity\",\n",
    "        \"pressure_level\": \"all\",\n",
    "        \"product_type\": \"reanalysis\",\n",
    "        \"year\": [\"1980\",\"1981\",\"1982\",\"1983\",\"1984\",\"1985\",\"1986\",\"1987\",\"1988\",\"1989\",\n",
    "                 \"1990\",\"1991\",\"1992\",\"1993\",\"1994\",\"1995\",\"1996\",\"1997\",\"1998\",\"1999\",\n",
    "                 \"2000\",\"2001\",\"2002\",\"2003\",\"2004\",\"2005\",\"2006\",\"2007\",\"2008\",\"2009\",\n",
    "                 \"2010\",\"2011\",\"2012\",\"2013\",\"2014\",\"2015\",\"2016\",\"2017\",\"2018\",\"2019\"],\n",
    "        \"month\": [\"01\",\"02\",\"03\",\"04\",\"05\",\"06\",\"07\",\"08\",\"09\",\"10\",\"11\",\"12\"],\n",
    "        \"format\": \"netcdf\"\n",
    "    }, \"in/sh_levels.nc\")"
   ]
  },
  {
   "cell_type": "code",
   "execution_count": 3,
   "metadata": {},
   "outputs": [
    {
     "name": "stderr",
     "output_type": "stream",
     "text": [
      "2020-11-26 20:13:40,827 INFO Welcome to the CDS\n",
      "2020-11-26 20:13:40,829 INFO Sending request to https://cds.climate.copernicus.eu/api/v2/resources/reanalysis-era5-single-levels\n",
      "2020-11-26 20:13:41,319 INFO Request is queued\n",
      "2020-11-26 20:13:42,570 INFO Request is running\n",
      "2020-11-26 20:13:55,709 INFO Request is completed\n",
      "2020-11-26 20:13:55,710 INFO Downloading http://136.156.133.32/cache-compute-0009/cache/data2/adaptor.mars.internal-1606432421.4763176-19136-5-ee755b1a-50ec-4a89-924e-160590e3ce87.nc to in/wind_rs.nc (256.4K)\n",
      "2020-11-26 20:13:58,011 INFO Download rate 111.5K/s\n"
     ]
    },
    {
     "data": {
      "text/plain": [
       "Result(content_length=262544,content_type=application/x-netcdf,location=http://136.156.133.32/cache-compute-0009/cache/data2/adaptor.mars.internal-1606432421.4763176-19136-5-ee755b1a-50ec-4a89-924e-160590e3ce87.nc)"
      ]
     },
     "execution_count": 3,
     "metadata": {},
     "output_type": "execute_result"
    }
   ],
   "source": [
    "c = cdsapi.Client()\n",
    "c.retrieve(\"reanalysis-era5-single-levels\",\n",
    "    {\n",
    "        \"area\": \"-35/-52/-32/-49\",\n",
    "        \"variable\": [\"10m_u_component_of_wind\",\"10m_v_component_of_wind\"],\n",
    "        \"product_type\": \"reanalysis\",\n",
    "        \"year\": [\"2020\"],\n",
    "        \"month\": [\"11\"],\n",
    "        \"day\" : [\"05\",\"06\",\"07\",\"08\",\"09\",\"10\",\"11\",\"12\",\"13\",\"14\",\"15\",\"16\",\"17\",\"18\",\"19\",\"20\"],\n",
    "        \"time\": \"all\",\n",
    "        \"format\": \"netcdf\"\n",
    "    }, \"in/wind_rs.nc\")"
   ]
  },
  {
   "cell_type": "code",
   "execution_count": null,
   "metadata": {},
   "outputs": [],
   "source": []
  }
 ],
 "metadata": {
  "kernelspec": {
   "display_name": "Python 3",
   "language": "python",
   "name": "python3"
  },
  "language_info": {
   "codemirror_mode": {
    "name": "ipython",
    "version": 3
   },
   "file_extension": ".py",
   "mimetype": "text/x-python",
   "name": "python",
   "nbconvert_exporter": "python",
   "pygments_lexer": "ipython3",
   "version": "3.8.5"
  }
 },
 "nbformat": 4,
 "nbformat_minor": 4
}
