{
 "cells": [
  {
   "cell_type": "code",
   "execution_count": 1,
   "metadata": {},
   "outputs": [],
   "source": [
    "\"\"\"\n",
    "This script creates the figure of mean \n",
    "annual mass balance vs. altitude \n",
    "\n",
    "\"\"\"\n",
    "\n",
    "import xarray as xr\n",
    "import pandas as pd\n",
    "import numpy as np\n",
    "import datetime\n",
    "from dateutil import tz\n",
    "import netCDF4\n",
    "import time\n",
    "import matplotlib.pyplot as plt\n",
    "from my_fun.nan_helper import nan_helper\n"
   ]
  },
  {
   "cell_type": "code",
   "execution_count": 4,
   "metadata": {},
   "outputs": [],
   "source": [
    "filename_nc  = 'in/Peru_out_1_20160901-20170831.nc'\n",
    "dir_graphics   = 'out'\n",
    "name_fig     = 'MB_elv'\n",
    "\n",
    "ds = xr.open_dataset(filename_nc)\n",
    "time_nc = ds['time'].values\n",
    "mask_nc = ds['MASK'].values\n",
    "lat_nc  = ds['lat'].values        \n",
    "lon_nc  = ds['lon'].values\n",
    "dem_nc   = ds['HGT'].values\n"
   ]
  },
  {
   "cell_type": "code",
   "execution_count": 5,
   "metadata": {},
   "outputs": [
    {
     "name": "stderr",
     "output_type": "stream",
     "text": [
      "<ipython-input-5-379b51a07fd9>:45: RuntimeWarning: Mean of empty slice\n",
      "  MB_mean_40[i] = np.nanmean(var_in)\n",
      "/home/christian/.local/lib/python3.8/site-packages/numpy/lib/nanfunctions.py:1664: RuntimeWarning: Degrees of freedom <= 0 for slice.\n",
      "  var = nanvar(a, axis=axis, dtype=dtype, out=out, ddof=ddof,\n"
     ]
    }
   ],
   "source": [
    "lat_n,lon_n = np.shape(mask_nc)        \n",
    "point_g = np.sum(mask_nc[mask_nc==1])\n",
    "elev_g  = np.zeros((int(point_g),1))\n",
    "\n",
    "z = 0\n",
    "for i in range(lat_n):\n",
    "    for j in range(lon_n):\n",
    "            if mask_nc[i,j] == 1:\n",
    "                var1 = dem_nc[i,j]\n",
    "                elev_g[z,0] = var1\n",
    "                z = z+1\n",
    "\n",
    "elev_g_20 = np.arange(np.min(elev_g),np.max(elev_g),10) \n",
    "\n",
    "ME_all   = np.sum(ds['MB'].values,axis=0)\n",
    "\n",
    "var1 = np.zeros((len(elev_g),1))\n",
    "\n",
    "z = 0\n",
    "for i in range(lat_n):\n",
    "    for j in range(lon_n):\n",
    "            if mask_nc[i,j] == 1:\n",
    "                var01 = ME_all[i,j]\n",
    "                var1[z,0] = var01\n",
    "                z = z+1\n",
    "\n",
    "\n",
    "var2 = np.concatenate((elev_g, var1), axis=1)\n",
    "\n",
    "var3 = var2[np.lexsort(([var2[:, i] for i in range(var2.shape[1]-1, -1, -1)]))]\n",
    "\n",
    "a1 = 0\n",
    "a2 = 1\n",
    "MB_mean_40 = np.zeros((len(elev_g_20)))\n",
    "MB_mean_40[:] = np.nan\n",
    "MB_st_40 = np.zeros((len(elev_g_20)))\n",
    "MB_st_40[:] = np.nan\n",
    "\n",
    "for i in range(len(elev_g_20)-1):\n",
    "    var_in = np.zeros((len(var3)))\n",
    "    var_in[:] = np.nan  \n",
    "    for j in range(len(var3)):\n",
    "        if int(var3[j,0]) in range(int(elev_g_20[a1]),int(elev_g_20[a2])):\n",
    "            var_in[j] = var3[j,1]\n",
    "    MB_mean_40[i] = np.nanmean(var_in)\n",
    "    MB_st_40[i] = np.nanstd(var_in)\n",
    "    a1 = a1+1\n",
    "    a2 = a2+1        \n",
    "\n",
    "for j in range(len(var3)):\n",
    "    if var3[j,0] >= elev_g_20[a1]:\n",
    "        var_in[j] = var3[j,1]\n",
    "\n",
    "MB_mean_40[-1] = np.nanmean(var_in)\n",
    "MB_st_40[-1] = np.nanstd(var_in)\n",
    "\n",
    "nans, x = nan_helper(MB_mean_40)\n",
    "MB_mean_40[nans]= np.interp(x(nans), x(~nans), MB_mean_40[~nans])\n",
    "nans, x = nan_helper(MB_st_40)\n",
    "MB_st_40[nans]= np.interp(x(nans), x(~nans), MB_st_40[~nans])\n",
    "\n",
    "y = var3[:,0]\n",
    "x = var3[:,1]\n"
   ]
  },
  {
   "cell_type": "code",
   "execution_count": 7,
   "metadata": {},
   "outputs": [
    {
     "data": {
      "image/png": "[encoded data removed]",
      "text/plain": [
       "<Figure size 180x216 with 1 Axes>"
      ]
     },
     "metadata": {
      "needs_background": "light"
     },
     "output_type": "display_data"
    }
   ],
   "source": [
    "fig, (ax0) = plt.subplots(1,1,figsize=(2.5,3.0)) \n",
    "ax0.plot(MB_mean_40,elev_g_20,'-r', lw=0.8)\n",
    "ax0.fill_betweenx(elev_g_20,MB_mean_40-MB_st_40,MB_mean_40+MB_st_40, color='r', alpha=0.3)\n",
    "ax0.set_yticks(np.arange(4800, 6600, 100.0))\n",
    "ax0.set_ylim(np.min(elev_g), np.max(elev_g))\n",
    "ax0.set_xticks(np.arange(-20, 10, 2.0))\n",
    "ax0.set_xlim(-10, 2)\n",
    "ax0.plot(np.zeros(len(elev_g)),elev_g,'-k', lw=0.4)\n",
    "\n",
    "plt.ylabel('Altitude ($m$)')\n",
    "plt.xlabel('Mass balance (m w.e.)')\n",
    "plt.ylabel('Altitude (m)')\n",
    "font_f = 10\n",
    "plt.rc('font', size=font_f)          # controls default text sizes\n",
    "plt.rc('axes', titlesize=font_f)     # fontsize of the axes title\n",
    "plt.rc('axes', labelsize=font_f)    # fontsize of the x and y labels\n",
    "plt.rc('xtick', labelsize=font_f)    # fontsize of the tick labels\n",
    "plt.rc('ytick', labelsize=font_f)    # fontsize of the tick labels\n",
    "plt.rc('legend', fontsize=font_f)    # legend fontsize\n",
    "\n",
    "fig.savefig(dir_graphics+'/'+name_fig+'.png',dpi = 300, bbox_inches = 'tight', \n",
    "             pad_inches = 0.1)"
   ]
  }
 ],
 "metadata": {
  "kernelspec": {
   "display_name": "Python 3",
   "language": "python",
   "name": "python3"
  },
  "language_info": {
   "codemirror_mode": {
    "name": "ipython",
    "version": 3
   },
   "file_extension": ".py",
   "mimetype": "text/x-python",
   "name": "python",
   "nbconvert_exporter": "python",
   "pygments_lexer": "ipython3",
   "version": "3.8.2"
  }
 },
 "nbformat": 4,
 "nbformat_minor": 4
}
