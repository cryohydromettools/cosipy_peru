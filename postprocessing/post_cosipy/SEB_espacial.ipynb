{
 "cells": [
  {
   "cell_type": "code",
   "execution_count": 1,
   "metadata": {},
   "outputs": [],
   "source": [
    "\"\"\"\n",
    "This script creates the figure the energy\n",
    "balance in its distribution version \n",
    "\n",
    "\"\"\"\n",
    "\n",
    "import xarray as xr\n",
    "import pandas as pd\n",
    "import numpy as np\n",
    "import datetime\n",
    "from dateutil import tz\n",
    "import netCDF4\n",
    "import matplotlib.pyplot as plt \n",
    "from my_fun.hour_to_day_mean import hour_to_day_mean\n",
    "import matplotlib as mpl\n"
   ]
  },
  {
   "cell_type": "code",
   "execution_count": 2,
   "metadata": {},
   "outputs": [],
   "source": [
    "filename_nc  = 'in/Peru_out_1_20160901-20170831.nc'\n",
    "dir_graphics   = 'out'\n",
    "name_fig     = 'SEB_esp'\n",
    "\n",
    "ds = xr.open_dataset(filename_nc)\n",
    "\n",
    "time_nc = ds['time'].values\n",
    "lon_nc  = ds['lon'].values\n",
    "lat_nc  = ds['lat'].values\n",
    "mask_nc = ds['MASK'].values\n"
   ]
  },
  {
   "cell_type": "code",
   "execution_count": 5,
   "metadata": {},
   "outputs": [
    {
     "name": "stderr",
     "output_type": "stream",
     "text": [
      "<ipython-input-5-dd0912eb93ba>:5: RuntimeWarning: Mean of empty slice\n",
      "  ME_all   = np.nanmean(ME_all,axis=0)\n"
     ]
    },
    {
     "data": {
      "image/png": "[encoded data removed]",
      "text/plain": [
       "<Figure size 288x360 with 2 Axes>"
      ]
     },
     "metadata": {
      "needs_background": "light"
     },
     "output_type": "display_data"
    }
   ],
   "source": [
    "x,y = np.shape(mask_nc)\n",
    "days_num = int(len(time_nc)/24)\n",
    "\n",
    "ME_all   = ds['ME'].values\n",
    "ME_all   = np.nanmean(ME_all,axis=0)\n",
    "\n",
    "fig, ax = plt.subplots(figsize=(4,5))\n",
    "im = ax.contourf(lon_nc,lat_nc,ME_all,30,vmin=0, vmax=115, cmap='jet')\n",
    "ax.set_yticks(np.round(np.linspace(np.min(lat_nc), np.max(lat_nc), 5), decimals=2))\n",
    "ax.xaxis.set_ticks_position('top')\n",
    "ax.xaxis.set_tick_params(which='both', rotation=90)\n",
    "ax.set_xticks(np.round(np.linspace(np.min(lon_nc), np.max(lon_nc), 5), decimals=2))\n",
    "ax.yaxis.set_tick_params(which='both', rotation=90)\n",
    "ax.set_ylabel('Lat (°)')\n",
    "ax.set_xlabel('Lon (°)')\n",
    "ax.xaxis.set_label_position('top')\n",
    "lab_cbar = np.arange(5,110,20)\n",
    "fig.colorbar(im, label = 'Melt Energy (W m$^{-2}$)', format='%1.1f',\n",
    "             orientation=\"horizontal\", ticks=lab_cbar)\n",
    "font_f = 12\n",
    "plt.rc('font', size=font_f)          # controls default text sizes\n",
    "plt.rc('axes', titlesize=font_f)     # fontsize of the axes title\n",
    "plt.rc('axes', labelsize=font_f)    # fontsize of the x and y labels\n",
    "plt.rc('xtick', labelsize=font_f)    # fontsize of the tick labels\n",
    "plt.rc('ytick', labelsize=font_f)    # fontsize of the tick labels\n",
    "plt.rc('legend', fontsize=font_f)    # legend fontsize\n",
    "fig.savefig(dir_graphics+'/'+name_fig+'.png',dpi = 300, bbox_inches = 'tight', \n",
    "             pad_inches = 0.1)\n"
   ]
  },
  {
   "cell_type": "code",
   "execution_count": null,
   "metadata": {},
   "outputs": [],
   "source": []
  },
  {
   "cell_type": "code",
   "execution_count": null,
   "metadata": {},
   "outputs": [],
   "source": []
  }
 ],
 "metadata": {
  "kernelspec": {
   "display_name": "Python 3",
   "language": "python",
   "name": "python3"
  },
  "language_info": {
   "codemirror_mode": {
    "name": "ipython",
    "version": 3
   },
   "file_extension": ".py",
   "mimetype": "text/x-python",
   "name": "python",
   "nbconvert_exporter": "python",
   "pygments_lexer": "ipython3",
   "version": "3.8.2"
  }
 },
 "nbformat": 4,
 "nbformat_minor": 4
}
